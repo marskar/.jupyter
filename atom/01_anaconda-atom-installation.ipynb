{
 "cells": [
  {
   "cell_type": "markdown",
   "metadata": {},
   "source": [
    "# Atom installation"
   ]
  },
  {
   "cell_type": "markdown",
   "metadata": {},
   "source": [
    "Follow the instructions in the [Atom Flight Manual](https://flight-manual.atom.io/getting-started/sections/installing-atom/)."
   ]
  },
  {
   "cell_type": "markdown",
   "metadata": {},
   "source": [
    "# Anaconda installation in-depth"
   ]
  },
  {
   "cell_type": "markdown",
   "metadata": {},
   "source": [
    "[`Python`](http://python.org/) is a popular language for research computing, and great for general-purpose programming as well. Installing all of its research packages individually can be a bit difficult, so we recommend [Anaconda](https://www.continuum.io/anaconda), an all-in-one installer."
   ]
  },
  {
   "cell_type": "markdown",
   "metadata": {},
   "source": [
    "Regardless of how you choose to install it, please make sure you install **Python version 3.x** (e.g., 3.6 is fine).\n",
    "\n",
    "We will teach Python using the [Jupyter Notebook](http://jupyter.org/), a programming environment that runs in a web browser. For this to work you will need a reasonably up-to-date browser. The current versions of the Chrome, Safari and Firefox browsers are all supported (some older browsers, including Internet Explorer version 9 and below, are not).\n",
    "\n",
    "---"
   ]
  },
  {
   "cell_type": "markdown",
   "metadata": {},
   "source": [
    "### Windows\n",
    "\n",
    "[Video tutorial](https://www.youtube.com/watch?v=xxQ0mzZ8UvA)\n",
    "\n",
    "1. Open http://continuum.io/downloads with your web browser.\n",
    "1. Download the `Python 3` installer for Windows.\n",
    "1. Install `Python 3` using all of the defaults for installation except make sure to check **Make Anaconda the default Python**.\n",
    "\n",
    "---"
   ]
  },
  {
   "cell_type": "markdown",
   "metadata": {},
   "source": [
    "### Mac OSX\n",
    "\n",
    "[Video tutorial](https://www.youtube.com/watch?v=TcSAln46u9U)\n",
    "\n",
    "1. Open http://continuum.io/downloads with your web browser.\n",
    "1. Download the `Python 3` installer for OS X.\n",
    "1. Install `Python 3` using all of the defaults for installation.\n",
    "\n",
    "---"
   ]
  },
  {
   "cell_type": "markdown",
   "metadata": {},
   "source": [
    "### Linux\n",
    "\n",
    "1. Open http://continuum.io/downloads with your web browser.\n",
    "1. Download the `Python 3` installer for Linux.\n",
    "1. Install `Python 3` using all of the defaults for installation. (Installation requires using the shell. If you aren't comfortable doing the installation yourself stop here and request help at the workshop.)\n",
    "1. Open a terminal window.\n",
    "1. Type:\n",
    "~~~\n",
    "bash Anaconda3-\n",
    "~~~\n",
    "and then press tab. The name of the file you just downloaded should appear.\n",
    "\n",
    "1. Press enter. You will follow the text-only prompts. When there is a colon at the bottom of the screen press the down arrow to move down through the text. Type yes and press enter to approve the license. Press enter to approve the default location for the files. Type yes and press enter to prepend Anaconda to your PATH (this makes the Anaconda distribution the default `Python`).\n",
    "\n",
    "---"
   ]
  },
  {
   "cell_type": "markdown",
   "metadata": {},
   "source": [
    "This installation tutorial is modified from [Software Carpentry] material(http://swcarpentry.github.io/workshop-template/#setup)"
   ]
  },
  {
   "cell_type": "markdown",
   "metadata": {},
   "source": [
    "# Anaconda install in-depth"
   ]
  },
  {
   "cell_type": "markdown",
   "metadata": {},
   "source": [
    "Step 1: Install Anaconda \n",
    "\n",
    "To install Anaconda, follow these [instructions][instruc]\n",
    "You have two options:\n",
    "\n",
    "1. Graphical Install (for Windows or Mac);\n",
    "\n",
    "2. Command Line Install (for Mac or Linux)\n",
    "\n",
    "If you have not used the command line before, you should pick the Graphical Install option.\n",
    "\n",
    "Make sure to pick the appropriate install option for your system (32 vs. 64-bit and Windows, Mac or Linux). \n",
    "\n",
    "If you use the Graphical Install option, you should keep defaults (add Anaconda to path and use Anaconda as default python).\n",
    "\n",
    "You will not need Anaconda Cloud for anything at this point.\n"
   ]
  },
  {
   "cell_type": "markdown",
   "metadata": {},
   "source": [
    "# Miniconda installation (as a backup)"
   ]
  },
  {
   "cell_type": "markdown",
   "metadata": {},
   "source": [
    "\n",
    "# Miniconda Setup Instructions\n",
    "\n",
    "# Step 1: Install Miniconda \n",
    "\n",
    "To install Miniconda, follow these [instructions][instruc] \n",
    "\n",
    "Make sure to download the Python 3.6 version from the [installation page][install]\n",
    "\n",
    "You are now ready to get started!\n",
    "\n",
    "[instruc]: https://conda.io/docs/install/quick.html\n",
    "[install]: https://conda.io/miniconda.html\n"
   ]
  }
 ],
 "metadata": {
  "kernel_info": {
   "name": "python3"
  },
  "kernelspec": {
   "display_name": "Python 3",
   "language": "python",
   "name": "python3"
  },
  "language_info": {
   "codemirror_mode": {
    "name": "ipython",
    "version": 3
   },
   "file_extension": ".py",
   "mimetype": "text/x-python",
   "name": "python",
   "nbconvert_exporter": "python",
   "pygments_lexer": "ipython3",
   "version": "3.6.2"
  },
  "nteract": {
   "version": "0.2.0"
  },
  "toc": {
   "nav_menu": {},
   "number_sections": true,
   "sideBar": true,
   "skip_h1_title": true,
   "toc_cell": false,
   "toc_position": {},
   "toc_section_display": "block",
   "toc_window_display": false
  }
 },
 "nbformat": 4,
 "nbformat_minor": 2
}
